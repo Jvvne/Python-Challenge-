{
 "cells": [
  {
   "cell_type": "code",
   "execution_count": 50,
   "id": "dc87755b-af14-4c46-94d8-77e57d9ecdf6",
   "metadata": {
    "tags": []
   },
   "outputs": [],
   "source": [
    "import csv\n",
    "import os"
   ]
  },
  {
   "cell_type": "code",
   "execution_count": 75,
   "id": "8033e265-6e5b-42d6-a7f3-b2c80f17f0f5",
   "metadata": {
    "tags": []
   },
   "outputs": [],
   "source": [
    "os.getcwd()\n",
    "os.chdir(\"/Users/june/Desktop/FinTech_HW/Python-challenge-/PyBank/Resources\")"
   ]
  },
  {
   "cell_type": "code",
   "execution_count": 100,
   "id": "15a46774-8ec1-4d25-a5e7-c70cd33efb54",
   "metadata": {
    "tags": []
   },
   "outputs": [],
   "source": [
    "file_path = (\"/Users/june/Desktop/FinTech_HW/Python-challenge-/PyBank/Resources/budget_data.csv\")\n"
   ]
  },
  {
   "cell_type": "code",
   "execution_count": 102,
   "id": "65f4582d-aa24-4381-ba5b-13c3f8ab6139",
   "metadata": {
    "tags": []
   },
   "outputs": [],
   "source": [
    "\n",
    "total_months = 0\n",
    "net_total = 0\n",
    "prev_month_profit = 0\n",
    "Total_change =[]\n",
    "greatest_increase = {\"date\": \"\", \"amount\": 0}\n",
    "greatest_decrease = {\"date\": \"\", \"amount\": 0} "
   ]
  },
  {
   "cell_type": "code",
   "execution_count": 104,
   "id": "a887508f",
   "metadata": {},
   "outputs": [],
   "source": [
    "with open(file_path) as csvfile:\n",
    "    csvreader = csv.reader(csvfile, delimiter=',')\n",
    "    \n",
    "    # Read the header row first\n",
    "    csv_header = next(csvreader)\n",
    "    \n",
    "    # Read the first row (to initialize previous month's profit/loss)\n",
    "    first_row = next(csvreader)\n",
    "    total_months += 1\n",
    "    net_total += int(first_row[1])\n",
    "    prev_month_profit = int(first_row[1])\n",
    "    \n",
    "    # Read through the dataset\n",
    "    for row in csvreader:\n",
    "        # Track the totals\n",
    "        total_months += 1\n",
    "        net_total += int(row[1])\n",
    "        \n",
    "        # Calculate change in profit/loss\n",
    "        average_change = int(row[1]) - prev_month_profit\n",
    "        total_change = average_change\n",
    "        prev_month_profit = int(row[1])\n",
    "        \n",
    "        # Calculate the greatest increase\n",
    "        if average_change > greatest_increase[\"amount\"]:\n",
    "            greatest_increase[\"date\"] = row[0]\n",
    "            greatest_increase[\"amount\"] = average_change\n",
    "            \n",
    "        # Calculate the greatest decrease\n",
    "        if average_change < greatest_decrease[\"amount\"]:\n",
    "            greatest_decrease[\"date\"] = row[0]\n",
    "            greatest_decrease[\"amount\"] = average_change\n"
   ]
  },
  {
   "cell_type": "code",
   "execution_count": 105,
   "id": "179b0812",
   "metadata": {},
   "outputs": [
    {
     "name": "stdout",
     "output_type": "stream",
     "text": [
      "Financial Analysis\n",
      "-----------------------------\n",
      "Total Months: 88\n",
      "Total: $$40235117\n",
      "Average Change: $532869.00\n",
      "Greatest Increase in Profits: Feb-2012 ($1926159)\n",
      "Greatest Decrease in Losses: Sep-2013 ($-2196167)\n"
     ]
    }
   ],
   "source": [
    "print(\"Financial Analysis\")\n",
    "print(\"-----------------------------\")\n",
    "print(f\"Total Months: {total_months}\")\n",
    "print(f\"Total: $${net_total}\")\n",
    "print(f\"Average Change: ${average_change:.2f}\")\n",
    "print(f\"Greatest Increase in Profits: {greatest_increase['date']} (${greatest_increase['amount']})\")\n",
    "print(f\"Greatest Decrease in Losses: {greatest_decrease['date']} (${greatest_decrease['amount']})\") \n"
   ]
  }
 ],
 "metadata": {
  "kernelspec": {
   "display_name": "Python 3 (ipykernel)",
   "language": "python",
   "name": "python3"
  },
  "language_info": {
   "codemirror_mode": {
    "name": "ipython",
    "version": 3
   },
   "file_extension": ".py",
   "mimetype": "text/x-python",
   "name": "python",
   "nbconvert_exporter": "python",
   "pygments_lexer": "ipython3",
   "version": "3.11.5"
  }
 },
 "nbformat": 4,
 "nbformat_minor": 5
}
